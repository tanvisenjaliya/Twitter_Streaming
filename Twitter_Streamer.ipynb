{
 "cells": [
  {
   "cell_type": "markdown",
   "metadata": {},
   "source": [
    "# Part : 2\n",
    "## Creating a function to fetch streaming tweets and storing it."
   ]
  },
  {
   "cell_type": "code",
   "execution_count": 1,
   "metadata": {},
   "outputs": [],
   "source": [
    "import json\n",
    "import tweepy\n",
    "import twitter_credentials#user defined\n",
    "import numpy as np\n",
    "import pandas as pd\n",
    "import sys"
   ]
  },
  {
   "cell_type": "code",
   "execution_count": 2,
   "metadata": {},
   "outputs": [
    {
     "data": {
      "text/plain": [
       "'4.1.0'"
      ]
     },
     "execution_count": 2,
     "metadata": {},
     "output_type": "execute_result"
    }
   ],
   "source": [
    "tweepy.__version__"
   ]
  },
  {
   "cell_type": "code",
   "execution_count": 3,
   "metadata": {},
   "outputs": [],
   "source": [
    "myStream = tweepy.Stream(twitter_credentials.CONSUMER_KEY, twitter_credentials.CONSUMER_SECRET, twitter_credentials.ACCESS_TOKEN, twitter_credentials.ACCESS_TOKEN_SECRET)"
   ]
  },
  {
   "cell_type": "code",
   "execution_count": 4,
   "metadata": {},
   "outputs": [],
   "source": [
    "tweet_list=[]\n",
    "class MyStreamListener(tweepy.Stream):\n",
    "      def __init__(self,consumer_key, consumer_secret, access_token, access_token_secret,output_file=sys.stdout):\n",
    "        super().__init__(consumer_key, consumer_secret, access_token, access_token_secret)\n",
    "        self.output_file = output_file\n",
    "        self.num_tweets=0\n",
    "        self.file=open(\"AppleEvent.txt\",\"w\")\n",
    "      def on_status(self,status):\n",
    "        tweet=status._json\n",
    "        self.file.write(json.dumps(tweet)+ '\\n')\n",
    "        tweet_list.append(status)\n",
    "        self.num_tweets+=1\n",
    "        if self.num_tweets<2: \n",
    "            return True\n",
    "        else:\n",
    "            self.file.close() #code will stop\n",
    "            return False\n",
    "            "
   ]
  },
  {
   "cell_type": "code",
   "execution_count": 5,
   "metadata": {
    "scrolled": true
   },
   "outputs": [
    {
     "name": "stderr",
     "output_type": "stream",
     "text": [
      "Stream encountered an exception\n",
      "Traceback (most recent call last):\n",
      "  File \"C:\\ProgramData\\Anaconda3\\lib\\site-packages\\tweepy\\streaming.py\", line 133, in _connect\n",
      "    self.on_data(line)\n",
      "  File \"C:\\ProgramData\\Anaconda3\\lib\\site-packages\\tweepy\\streaming.py\", line 387, in on_data\n",
      "    return self.on_status(status)\n",
      "  File \"<ipython-input-4-f932e4e606e8>\", line 10, in on_status\n",
      "    self.file.write(json.dumps(tweet)+ '\\n')\n",
      "ValueError: I/O operation on closed file.\n"
     ]
    }
   ],
   "source": [
    "\n",
    "MyStreamListener = MyStreamListener(twitter_credentials.CONSUMER_KEY, twitter_credentials.CONSUMER_SECRET, twitter_credentials.ACCESS_TOKEN, twitter_credentials.ACCESS_TOKEN_SECRET)\n",
    "#this line filters twiiter streams to capture data by keywords\n",
    "MyStreamListener.filter(track=['#AppleEvent','#Apple'])"
   ]
  },
  {
   "cell_type": "code",
   "execution_count": null,
   "metadata": {},
   "outputs": [],
   "source": []
  }
 ],
 "metadata": {
  "kernelspec": {
   "display_name": "Python 3",
   "language": "python",
   "name": "python3"
  },
  "language_info": {
   "codemirror_mode": {
    "name": "ipython",
    "version": 3
   },
   "file_extension": ".py",
   "mimetype": "text/x-python",
   "name": "python",
   "nbconvert_exporter": "python",
   "pygments_lexer": "ipython3",
   "version": "3.7.6"
  }
 },
 "nbformat": 4,
 "nbformat_minor": 5
}
