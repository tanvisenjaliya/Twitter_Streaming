{
 "cells": [
  {
   "cell_type": "markdown",
   "metadata": {},
   "source": [
    "# Part : 5\n",
    "## Performing sentiment Analysis on the data retrieved"
   ]
  },
  {
   "cell_type": "code",
   "execution_count": 27,
   "metadata": {},
   "outputs": [],
   "source": [
    "import pandas as pd\n",
    "import json\n",
    "import numpy as np\n",
    "from textblob import TextBlob\n",
    "import re\n",
    "import matplotlib.pyplot as plt\n",
    "import seaborn as sns\n",
    "import random"
   ]
  },
  {
   "cell_type": "code",
   "execution_count": 2,
   "metadata": {},
   "outputs": [],
   "source": [
    "class TweetAnalyzer():\n",
    "    \n",
    "    def analyze_sentiment(self, tweet):\n",
    "        analysis = TextBlob(tweet)#(self.clean_tweet(tweet))\n",
    "        \n",
    "        if analysis.sentiment.polarity > 0:\n",
    "            return 1\n",
    "        elif analysis.sentiment.polarity == 0:\n",
    "            return 0\n",
    "        else:\n",
    "            return -1"
   ]
  },
  {
   "cell_type": "code",
   "execution_count": 3,
   "metadata": {},
   "outputs": [],
   "source": [
    "if __name__ == '__main__':\n",
    "\n",
    "    tweet_analyzer = TweetAnalyzer()\n",
    "    df = pd.read_csv(\"cleantweets.csv\") # read csv after cleaning\n",
    "    df['sentiment'] = np.array([tweet_analyzer.analyze_sentiment(tweet) for tweet in df['text']])"
   ]
  },
  {
   "cell_type": "code",
   "execution_count": 4,
   "metadata": {
    "scrolled": true
   },
   "outputs": [
    {
     "data": {
      "text/html": [
       "<div>\n",
       "<style scoped>\n",
       "    .dataframe tbody tr th:only-of-type {\n",
       "        vertical-align: middle;\n",
       "    }\n",
       "\n",
       "    .dataframe tbody tr th {\n",
       "        vertical-align: top;\n",
       "    }\n",
       "\n",
       "    .dataframe thead th {\n",
       "        text-align: right;\n",
       "    }\n",
       "</style>\n",
       "<table border=\"1\" class=\"dataframe\">\n",
       "  <thead>\n",
       "    <tr style=\"text-align: right;\">\n",
       "      <th></th>\n",
       "      <th>Unnamed: 0</th>\n",
       "      <th>created_at</th>\n",
       "      <th>text</th>\n",
       "      <th>lang</th>\n",
       "      <th>name</th>\n",
       "      <th>friends_count</th>\n",
       "      <th>screen_name</th>\n",
       "      <th>location</th>\n",
       "      <th>followers_count</th>\n",
       "      <th>favourites_count</th>\n",
       "      <th>listed_count</th>\n",
       "      <th>statuses_count</th>\n",
       "      <th>sentiment</th>\n",
       "    </tr>\n",
       "  </thead>\n",
       "  <tbody>\n",
       "    <tr>\n",
       "      <th>0</th>\n",
       "      <td>3</td>\n",
       "      <td>Tue Oct 19 11:49:25 +0000 2021</td>\n",
       "      <td>These are the new AirPods available for  179...</td>\n",
       "      <td>en</td>\n",
       "      <td>branden repke</td>\n",
       "      <td>323</td>\n",
       "      <td>repke_branden</td>\n",
       "      <td>United States</td>\n",
       "      <td>39</td>\n",
       "      <td>35178</td>\n",
       "      <td>0</td>\n",
       "      <td>1860</td>\n",
       "      <td>1</td>\n",
       "    </tr>\n",
       "    <tr>\n",
       "      <th>1</th>\n",
       "      <td>8</td>\n",
       "      <td>Tue Oct 19 11:49:27 +0000 2021</td>\n",
       "      <td>For all your quality perfumes Contact us</td>\n",
       "      <td>en</td>\n",
       "      <td>BREAST BOARD CHAIRMAN</td>\n",
       "      <td>2261</td>\n",
       "      <td>NUFUO_mu_IGP</td>\n",
       "      <td>NaN</td>\n",
       "      <td>3782</td>\n",
       "      <td>12524</td>\n",
       "      <td>4</td>\n",
       "      <td>15413</td>\n",
       "      <td>0</td>\n",
       "    </tr>\n",
       "    <tr>\n",
       "      <th>2</th>\n",
       "      <td>13</td>\n",
       "      <td>Tue Oct 19 11:49:29 +0000 2021</td>\n",
       "      <td>For quality perfumes  buy from us     Delive...</td>\n",
       "      <td>en</td>\n",
       "      <td>BREAST BOARD CHAIRMAN</td>\n",
       "      <td>2261</td>\n",
       "      <td>NUFUO_mu_IGP</td>\n",
       "      <td>NaN</td>\n",
       "      <td>3782</td>\n",
       "      <td>12524</td>\n",
       "      <td>4</td>\n",
       "      <td>15414</td>\n",
       "      <td>1</td>\n",
       "    </tr>\n",
       "    <tr>\n",
       "      <th>3</th>\n",
       "      <td>15</td>\n",
       "      <td>Tue Oct 19 11:49:29 +0000 2021</td>\n",
       "      <td>New  MacBookPro models limited to HDMI 2 0</td>\n",
       "      <td>en</td>\n",
       "      <td>TheTransparentPharmacist</td>\n",
       "      <td>165</td>\n",
       "      <td>TransparentRPH</td>\n",
       "      <td>Somewhere in the South...</td>\n",
       "      <td>33</td>\n",
       "      <td>86</td>\n",
       "      <td>2</td>\n",
       "      <td>2266</td>\n",
       "      <td>1</td>\n",
       "    </tr>\n",
       "    <tr>\n",
       "      <th>4</th>\n",
       "      <td>18</td>\n",
       "      <td>Tue Oct 19 11:49:32 +0000 2021</td>\n",
       "      <td>Blah blah no touchscreen not interested</td>\n",
       "      <td>en</td>\n",
       "      <td>photographer</td>\n",
       "      <td>3088</td>\n",
       "      <td>chadlawsonphoto</td>\n",
       "      <td>Atlanta, GA</td>\n",
       "      <td>5906</td>\n",
       "      <td>7755</td>\n",
       "      <td>23</td>\n",
       "      <td>290793</td>\n",
       "      <td>-1</td>\n",
       "    </tr>\n",
       "    <tr>\n",
       "      <th>...</th>\n",
       "      <td>...</td>\n",
       "      <td>...</td>\n",
       "      <td>...</td>\n",
       "      <td>...</td>\n",
       "      <td>...</td>\n",
       "      <td>...</td>\n",
       "      <td>...</td>\n",
       "      <td>...</td>\n",
       "      <td>...</td>\n",
       "      <td>...</td>\n",
       "      <td>...</td>\n",
       "      <td>...</td>\n",
       "      <td>...</td>\n",
       "    </tr>\n",
       "    <tr>\n",
       "      <th>7279</th>\n",
       "      <td>20223</td>\n",
       "      <td>Wed Oct 20 11:18:19 +0000 2021</td>\n",
       "      <td>Apple s AR headset production pushed back ...</td>\n",
       "      <td>en</td>\n",
       "      <td>⚔️Kuneho⚔️</td>\n",
       "      <td>272</td>\n",
       "      <td>panaloTOL</td>\n",
       "      <td>Pinas</td>\n",
       "      <td>20</td>\n",
       "      <td>2110</td>\n",
       "      <td>0</td>\n",
       "      <td>2748</td>\n",
       "      <td>0</td>\n",
       "    </tr>\n",
       "    <tr>\n",
       "      <th>7280</th>\n",
       "      <td>20225</td>\n",
       "      <td>Wed Oct 20 11:18:21 +0000 2021</td>\n",
       "      <td>LEAKED  Alleged first look at the  Beats ...</td>\n",
       "      <td>en</td>\n",
       "      <td>⚔️Kuneho⚔️</td>\n",
       "      <td>272</td>\n",
       "      <td>panaloTOL</td>\n",
       "      <td>Pinas</td>\n",
       "      <td>20</td>\n",
       "      <td>2110</td>\n",
       "      <td>0</td>\n",
       "      <td>2749</td>\n",
       "      <td>1</td>\n",
       "    </tr>\n",
       "    <tr>\n",
       "      <th>7281</th>\n",
       "      <td>20226</td>\n",
       "      <td>Wed Oct 20 11:18:24 +0000 2021</td>\n",
       "      <td>Apple 1 Year Limited Warranty with 90 Day Tech...</td>\n",
       "      <td>en</td>\n",
       "      <td>Lynda</td>\n",
       "      <td>16</td>\n",
       "      <td>Lyndauusa</td>\n",
       "      <td>NaN</td>\n",
       "      <td>0</td>\n",
       "      <td>16</td>\n",
       "      <td>0</td>\n",
       "      <td>17</td>\n",
       "      <td>-1</td>\n",
       "    </tr>\n",
       "    <tr>\n",
       "      <th>7282</th>\n",
       "      <td>20238</td>\n",
       "      <td>Wed Oct 20 11:19:03 +0000 2021</td>\n",
       "      <td>Charge it wherever you go   Magnetic Wireless ...</td>\n",
       "      <td>en</td>\n",
       "      <td>Mobee.k</td>\n",
       "      <td>2</td>\n",
       "      <td>mobee_k</td>\n",
       "      <td>NaN</td>\n",
       "      <td>22</td>\n",
       "      <td>211</td>\n",
       "      <td>0</td>\n",
       "      <td>11055</td>\n",
       "      <td>0</td>\n",
       "    </tr>\n",
       "    <tr>\n",
       "      <th>7283</th>\n",
       "      <td>20242</td>\n",
       "      <td>Wed Oct 20 11:19:24 +0000 2021</td>\n",
       "      <td>Unleashing the fastest notebook ever  Loaded...</td>\n",
       "      <td>en</td>\n",
       "      <td>manuj sharan 🇮🇳</td>\n",
       "      <td>208</td>\n",
       "      <td>manujsharan</td>\n",
       "      <td>Mumbai</td>\n",
       "      <td>198</td>\n",
       "      <td>106532</td>\n",
       "      <td>18</td>\n",
       "      <td>74019</td>\n",
       "      <td>1</td>\n",
       "    </tr>\n",
       "  </tbody>\n",
       "</table>\n",
       "<p>7284 rows × 13 columns</p>\n",
       "</div>"
      ],
      "text/plain": [
       "      Unnamed: 0                      created_at  \\\n",
       "0              3  Tue Oct 19 11:49:25 +0000 2021   \n",
       "1              8  Tue Oct 19 11:49:27 +0000 2021   \n",
       "2             13  Tue Oct 19 11:49:29 +0000 2021   \n",
       "3             15  Tue Oct 19 11:49:29 +0000 2021   \n",
       "4             18  Tue Oct 19 11:49:32 +0000 2021   \n",
       "...          ...                             ...   \n",
       "7279       20223  Wed Oct 20 11:18:19 +0000 2021   \n",
       "7280       20225  Wed Oct 20 11:18:21 +0000 2021   \n",
       "7281       20226  Wed Oct 20 11:18:24 +0000 2021   \n",
       "7282       20238  Wed Oct 20 11:19:03 +0000 2021   \n",
       "7283       20242  Wed Oct 20 11:19:24 +0000 2021   \n",
       "\n",
       "                                                   text lang  \\\n",
       "0       These are the new AirPods available for  179...   en   \n",
       "1              For all your quality perfumes Contact us   en   \n",
       "2       For quality perfumes  buy from us     Delive...   en   \n",
       "3        New  MacBookPro models limited to HDMI 2 0       en   \n",
       "4               Blah blah no touchscreen not interested   en   \n",
       "...                                                 ...  ...   \n",
       "7279      Apple s AR headset production pushed back ...   en   \n",
       "7280       LEAKED  Alleged first look at the  Beats ...   en   \n",
       "7281  Apple 1 Year Limited Warranty with 90 Day Tech...   en   \n",
       "7282  Charge it wherever you go   Magnetic Wireless ...   en   \n",
       "7283    Unleashing the fastest notebook ever  Loaded...   en   \n",
       "\n",
       "                          name  friends_count      screen_name  \\\n",
       "0                branden repke            323    repke_branden   \n",
       "1        BREAST BOARD CHAIRMAN           2261     NUFUO_mu_IGP   \n",
       "2        BREAST BOARD CHAIRMAN           2261     NUFUO_mu_IGP   \n",
       "3     TheTransparentPharmacist            165   TransparentRPH   \n",
       "4                 photographer           3088  chadlawsonphoto   \n",
       "...                        ...            ...              ...   \n",
       "7279                ⚔️Kuneho⚔️            272        panaloTOL   \n",
       "7280                ⚔️Kuneho⚔️            272        panaloTOL   \n",
       "7281                     Lynda             16        Lyndauusa   \n",
       "7282                   Mobee.k              2          mobee_k   \n",
       "7283           manuj sharan 🇮🇳            208      manujsharan   \n",
       "\n",
       "                       location  followers_count  favourites_count  \\\n",
       "0                 United States               39             35178   \n",
       "1                           NaN             3782             12524   \n",
       "2                           NaN             3782             12524   \n",
       "3     Somewhere in the South...               33                86   \n",
       "4                   Atlanta, GA             5906              7755   \n",
       "...                         ...              ...               ...   \n",
       "7279                      Pinas               20              2110   \n",
       "7280                      Pinas               20              2110   \n",
       "7281                        NaN                0                16   \n",
       "7282                        NaN               22               211   \n",
       "7283                     Mumbai              198            106532   \n",
       "\n",
       "      listed_count  statuses_count  sentiment  \n",
       "0                0            1860          1  \n",
       "1                4           15413          0  \n",
       "2                4           15414          1  \n",
       "3                2            2266          1  \n",
       "4               23          290793         -1  \n",
       "...            ...             ...        ...  \n",
       "7279             0            2748          0  \n",
       "7280             0            2749          1  \n",
       "7281             0              17         -1  \n",
       "7282             0           11055          0  \n",
       "7283            18           74019          1  \n",
       "\n",
       "[7284 rows x 13 columns]"
      ]
     },
     "execution_count": 4,
     "metadata": {},
     "output_type": "execute_result"
    }
   ],
   "source": [
    "df"
   ]
  },
  {
   "cell_type": "code",
   "execution_count": 24,
   "metadata": {
    "scrolled": false
   },
   "outputs": [
    {
     "data": {
      "image/png": "[encoded data removed]",
      "text/plain": [
       "<Figure size 432x288 with 1 Axes>"
      ]
     },
     "metadata": {},
     "output_type": "display_data"
    }
   ],
   "source": [
    "y = df['sentiment'].value_counts()\n",
    "plt.pie(y,autopct='%1.1f%%', labels=[\"Positive\", \"Neutral\",\"Negative\"],colors =[ '#B7C3F3', '#DD7596', '#8EB897'])\n",
    "plt.show() "
   ]
  },
  {
   "cell_type": "code",
   "execution_count": 45,
   "metadata": {},
   "outputs": [],
   "source": [
    "raw = pd.read_csv(\"temptweets.csv\")\n",
    "raw1 = raw['lang'].value_counts().rename_axis('unique_values').reset_index(name='counts')"
   ]
  },
  {
   "cell_type": "code",
   "execution_count": 61,
   "metadata": {
    "scrolled": true
   },
   "outputs": [
    {
     "data": {
      "image/png": "[encoded data removed]",
      "text/plain": [
       "<Figure size 432x288 with 1 Axes>"
      ]
     },
     "metadata": {
      "needs_background": "light"
     },
     "output_type": "display_data"
    }
   ],
   "source": [
    "import squarify \n",
    "y = raw['lang'].value_counts()\n",
    "squarify.plot(sizes=raw1['counts'], alpha=.8, label=raw1['unique_values'])\n",
    "plt.axis('off')\n",
    "plt.show()"
   ]
  },
  {
   "cell_type": "code",
   "execution_count": null,
   "metadata": {},
   "outputs": [],
   "source": []
  },
  {
   "cell_type": "code",
   "execution_count": null,
   "metadata": {},
   "outputs": [],
   "source": []
  },
  {
   "cell_type": "code",
   "execution_count": null,
   "metadata": {},
   "outputs": [],
   "source": []
  },
  {
   "cell_type": "code",
   "execution_count": null,
   "metadata": {},
   "outputs": [],
   "source": []
  },
  {
   "cell_type": "code",
   "execution_count": null,
   "metadata": {},
   "outputs": [],
   "source": []
  },
  {
   "cell_type": "code",
   "execution_count": 31,
   "metadata": {
    "scrolled": true
   },
   "outputs": [
    {
     "name": "stdout",
     "output_type": "stream",
     "text": [
      "Unnamed: 0                                   20242\n",
      "created_at          Wed Oct 20 11:28:52 +0000 2021\n",
      "text                           yeah this clean asf\n",
      "lang                                            en\n",
      "friends_count                               222794\n",
      "screen_name                              zyrusHmab\n",
      "followers_count                            8248291\n",
      "favourites_count                           1109779\n",
      "listed_count                                 36361\n",
      "statuses_count                             2460151\n",
      "sentiment                                        1\n",
      "dtype: object\n"
     ]
    },
    {
     "name": "stderr",
     "output_type": "stream",
     "text": [
      "C:\\ProgramData\\Anaconda3\\lib\\site-packages\\ipykernel_launcher.py:1: FutureWarning: Dropping of nuisance columns in DataFrame reductions (with 'numeric_only=None') is deprecated; in a future version this will raise TypeError.  Select only valid columns before calling the reduction.\n",
      "  \"\"\"Entry point for launching an IPython kernel.\n"
     ]
    }
   ],
   "source": [
    "max_elements = df.max()\n",
    "print(max_elements)"
   ]
  },
  {
   "cell_type": "code",
   "execution_count": null,
   "metadata": {},
   "outputs": [],
   "source": []
  },
  {
   "cell_type": "code",
   "execution_count": null,
   "metadata": {},
   "outputs": [],
   "source": []
  }
 ],
 "metadata": {
  "kernelspec": {
   "display_name": "Python 3",
   "language": "python",
   "name": "python3"
  },
  "language_info": {
   "codemirror_mode": {
    "name": "ipython",
    "version": 3
   },
   "file_extension": ".py",
   "mimetype": "text/x-python",
   "name": "python",
   "nbconvert_exporter": "python",
   "pygments_lexer": "ipython3",
   "version": "3.7.6"
  }
 },
 "nbformat": 4,
 "nbformat_minor": 4
}
