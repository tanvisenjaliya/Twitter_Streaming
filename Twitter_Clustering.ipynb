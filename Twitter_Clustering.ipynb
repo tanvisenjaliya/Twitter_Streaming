{
 "cells": [
  {
   "cell_type": "markdown",
   "metadata": {},
   "source": [
    "# Part : 7"
   ]
  },
  {
   "cell_type": "markdown",
   "metadata": {},
   "source": [
    "### Clusting of words of tweets"
   ]
  },
  {
   "cell_type": "code",
   "execution_count": 1,
   "metadata": {},
   "outputs": [],
   "source": [
    "import pandas as pd\n",
    "from sklearn.feature_extraction.text import TfidfVectorizer\n",
    "from sklearn.cluster import KMeans"
   ]
  },
  {
   "cell_type": "code",
   "execution_count": 2,
   "metadata": {},
   "outputs": [],
   "source": [
    "df=pd.read_csv('cleantweets.csv')"
   ]
  },
  {
   "cell_type": "code",
   "execution_count": 3,
   "metadata": {},
   "outputs": [
    {
     "name": "stdout",
     "output_type": "stream",
     "text": [
      "<class 'pandas.core.frame.DataFrame'>\n",
      "RangeIndex: 7284 entries, 0 to 7283\n",
      "Data columns (total 1 columns):\n",
      " #   Column  Non-Null Count  Dtype \n",
      "---  ------  --------------  ----- \n",
      " 0   text    7284 non-null   object\n",
      "dtypes: object(1)\n",
      "memory usage: 57.0+ KB\n"
     ]
    }
   ],
   "source": [
    "Cluster_data = df[['text']]\n",
    "Cluster_data.info()"
   ]
  },
  {
   "cell_type": "code",
   "execution_count": 4,
   "metadata": {},
   "outputs": [],
   "source": [
    "#Clustering based on cource column\n",
    "documents = df['text'].values.astype(\"U\")\n",
    "#unicot - any computer can recognize unicot #universal\n",
    "#changing string to unicot"
   ]
  },
  {
   "cell_type": "code",
   "execution_count": 5,
   "metadata": {},
   "outputs": [],
   "source": [
    "#Text Vectoriser\n",
    "vectorizer = TfidfVectorizer(stop_words='english')\n",
    "features = vectorizer.fit_transform(documents)"
   ]
  },
  {
   "cell_type": "code",
   "execution_count": 6,
   "metadata": {},
   "outputs": [
    {
     "data": {
      "text/plain": [
       "KMeans(algorithm='auto', copy_x=True, init='k-means++', max_iter=300,\n",
       "       n_clusters=3, n_init=1, n_jobs=None, precompute_distances='auto',\n",
       "       random_state=None, tol=0.0001, verbose=0)"
      ]
     },
     "execution_count": 6,
     "metadata": {},
     "output_type": "execute_result"
    }
   ],
   "source": [
    "#Creating a K-Means\n",
    "k = 3\n",
    "model = KMeans(n_clusters=k, init='k-means++', n_init=1)\n",
    "model.fit(features)"
   ]
  },
  {
   "cell_type": "code",
   "execution_count": 7,
   "metadata": {},
   "outputs": [],
   "source": [
    "df['cluster'] = model.labels_\n",
    "clusters = df.groupby('cluster') "
   ]
  },
  {
   "cell_type": "code",
   "execution_count": 9,
   "metadata": {
    "scrolled": true
   },
   "outputs": [
    {
     "name": "stdout",
     "output_type": "stream",
     "text": [
      "Cluster centroids: \n",
      "\n",
      "Cluster: 0\n",
      "apple\n",
      "appleevent\n",
      "new\n",
      "macbook\n",
      "pro\n",
      "promotion\n",
      "airpods\n",
      "m1\n",
      "way\n",
      "ios\n",
      "------------\n",
      "Cluster: 1\n",
      "giveaway\n",
      "nft\n",
      "13\n",
      "iphone\n",
      "amp\n",
      "pro\n",
      "poodl\n",
      "augmentedrea\n",
      "usher\n",
      "crossover\n",
      "------------\n",
      "Cluster: 2\n",
      "ios\n",
      "indiegame\n",
      "gamedev\n",
      "retro\n",
      "indiedev\n",
      "cdr\n",
      "turning\n",
      "king\n",
      "indievideogames\n",
      "free\n",
      "------------\n"
     ]
    }
   ],
   "source": [
    "#Majors Keywords obtained after clustering\n",
    "\n",
    "print(\"Cluster centroids: \\n\")\n",
    "order_centroids = model.cluster_centers_.argsort()[:, ::-1]\n",
    "terms = vectorizer.get_feature_names()\n",
    "for i in range(k):\n",
    "    print(\"Cluster:\" ,i)\n",
    "    for j in order_centroids[i, :10]: #print out 10 feature terms of each cluster\n",
    "        print ( terms[j])\n",
    "       \n",
    "    print('------------')"
   ]
  },
  {
   "cell_type": "code",
   "execution_count": null,
   "metadata": {},
   "outputs": [],
   "source": []
  }
 ],
 "metadata": {
  "kernelspec": {
   "display_name": "Python 3",
   "language": "python",
   "name": "python3"
  },
  "language_info": {
   "codemirror_mode": {
    "name": "ipython",
    "version": 3
   },
   "file_extension": ".py",
   "mimetype": "text/x-python",
   "name": "python",
   "nbconvert_exporter": "python",
   "pygments_lexer": "ipython3",
   "version": "3.7.6"
  }
 },
 "nbformat": 4,
 "nbformat_minor": 5
}
